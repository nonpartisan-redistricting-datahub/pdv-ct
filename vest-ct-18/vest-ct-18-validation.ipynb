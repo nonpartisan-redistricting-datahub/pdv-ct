{
 "cells": [
  {
   "cell_type": "code",
   "execution_count": 1,
   "id": "75c823bf",
   "metadata": {},
   "outputs": [],
   "source": [
    "import pandas as pd # standard python data library\n",
    "import geopandas as gp # the geo-version of pandas\n",
    "import numpy as np \n",
    "import os\n",
    "import fiona\n",
    "from statistics import mean, median\n",
    "from pandas import read_csv\n",
    "gp.io.file.fiona.drvsupport.supported_drivers['KML'] = 'rw' #To load KML files\n",
    "import string\n",
    "import xml.etree.ElementTree as et\n",
    "\n",
    "pd.options.display.max_columns = 999"
   ]
  },
  {
   "cell_type": "markdown",
   "id": "46af9015",
   "metadata": {},
   "source": [
    "# VEST CT 2018"
   ]
  },
  {
   "cell_type": "markdown",
   "id": "5d85bdc2",
   "metadata": {},
   "source": [
    "## VEST Documentation"
   ]
  },
  {
   "cell_type": "markdown",
   "id": "3116d734-cc64-4ada-9d96-ee0df51db943",
   "metadata": {},
   "source": [
    "### Sources\n",
    "\n",
    "#### Election Results\n",
    "Election results from the Connecticut Secretary of State (https://portal.ct.gov/SOTS/Election-Services/Election-Results/Election-Results).\n",
    "\n",
    "#### Shapefiles\n",
    "Precinct shapefile from the U.S. Census Bureau's 2020 Redistricting Data Program.\n",
    "\n",
    "### Processing\n",
    "District splits not reported separately were merged for Bethel 5, Bridgeport 129-3, 130-2, Durham 3, East Haven 3-3, Hartford 11, 12, 24, Naugatuck 3-3, New Britain 12, New Haven 9-2, 17, 21-1, Stamford 3, 5, 6-1, 8, 12, 20-1, 21, Torrington 6, 7, Waterbury 74-5.\n",
    "\n",
    "The Stratford and Westport precincts were renumbered from municipal districts to state/federal districts.\n",
    "\n",
    "The following additional modifications were made to match the 2018 precinct boundaries.\n",
    "\n",
    "Ansonia: Adjust 1/2 to match shapefile  \n",
    "Avon: Adjust 1/3 to match street list  \n",
    "Berlin: Adjust 2/5 to match voter file  \n",
    "Bethel: Adjust 1/4 to match voter file  \n",
    "Bridgeport: Adjust 124-2/3/4, 126-1/2/5, 130-3/4 to match PDF  \n",
    "Colchester: Adjust 1/3, 2/4 to match street list  \n",
    "Coventry: Adjust 1/2 to match street list  \n",
    "Danbury: Align wards 4/5, 6/7 with PDF  \n",
    "Darien: Align 1/5, 1/6, 2/4 with shapefile  \n",
    "East Hartford: Adjust 1/2, 5/6 to match street list  \n",
    "East Haven: Add 1-3, 5-3 to match street list; Align 3, 3-3 with LD  \n",
    "East Windsor: Align 1, 1-2 with LD  \n",
    "Enfield: Adjust 258/458 to match PDF  \n",
    "Fairfield: Split 3-32/3-34 by LD; Adjust 8/9 to match PDF  \n",
    "Glastonbury: Adjust 4/5, 4/9, 7/9 to match PDF  \n",
    "Greenwich: Split 10/10-1 by LD; Adjust 1/2/3 to match PDF  \n",
    "Guilford: Adjust 1/3, 2/3 to match descriptions  \n",
    "Haddam: Adjust 1/2 to match street list  \n",
    "Hamden: Adjust 1/9, 5/6 to match PDF  \n",
    "Killingly: Adjust 2/4, 3/4 to match PDF   \n",
    "Ledyard: Adjust 1/2 to match street list  \n",
    "Litchfield: Adjust 2/4 to match voter file  \n",
    "Manchester: Merge 5/9; Adjust 3/5 to match street list  \n",
    "Middletown: Adjust 1/12 to match GIS  \n",
    "Milford: Align 117/119, 119-1/3 with LD and PDF  \n",
    "New Britain: Adjust 12/14 to match voter file  \n",
    "New Haven: Split 11-1/11-3 and align VTDs with voter file  \n",
    "New Milford: Align all VTDs with voter file  \n",
    "Newtown: Adjust 1/2 to match street list  \n",
    "Norwich: Adjust 4/5 to match voter file  \n",
    "Plainfield: Adjust 1/3, 2/4 to match voter file  \n",
    "Ridgefield: Adjust 1/2, 1/3 to match voter file  \n",
    "Rocky Hill: Adjust 2/3 to match voter file  \n",
    "Seymour: Adjust 1/3, 2/3 to match voter file  \n",
    "Shelton: Adjust 1/4, 2/3 to match PDF, voter file  \n",
    "Simsbury: Align 1/2 with 2017 redistricting  \n",
    "South Windsor: Adjust 3/5, 4/5 to match PDF  \n",
    "Southbury: Align all VTDs with shapefile, street list  \n",
    "Southington: Adjust 3/6, 5/8, 8/9 to match PDF  \n",
    "Stafford: Adjust 1/2 to match PDF  \n",
    "Stamford: Merge 1/23 and adjust 6/7 to reverse 2019 redistricting  \n",
    "Stonington: Align all VTDs with shapefile  \n",
    "Stratford: Split 20-1/13, 80-1/21 by LD; Align VTDs with voter file  \n",
    "Vernon: Adjust 1/2, 2/3 to match PDF  \n",
    "Wallingford: Adjust 2/3, 2/4, 7/8 to match voter file  \n",
    "Waterbury: Align VTDs with PDF, street list, voter file  \n",
    "West Haven: Adjust 1/7, 4/5/6, 8/9/10 to match voter file  \n",
    "Weston: Adjust 1/2 to match voter file  \n",
    "Windham: Adjust 4/6 to match street list  \n",
    "Windsor: Adjust 1/3 to match street list  \n",
    "Wolcott: Adjust 1/2, 1/3 to match voter file  \n",
    "\n",
    "### Races\n",
    "G18USSDMUR - Christopher S. Murphy (Democratic Party and Working Families Party (fusion candidate))  \n",
    "G18USSRCOR - Matthew Corey (Republican Party)  \n",
    "G18USSLLIO - Richard Lion (Libertarian Party)  \n",
    "G18USSGRUS - Jeff Russell (Green Party)  \n",
    "G18USSOWRI - Write-in Votes  \n",
    "\n",
    "G18GOVDLAM - Ned Lamont (Democratic Party and Working Families Party (fusion candidate))  \n",
    "G18GOVRSTE - Bob Stefanowski (Republican Party and Independent Party (fusion candidate))  \n",
    "G18GOVLHAN - Rodney Hanscomb (Libertarian Party)  \n",
    "G18GOVOGRI - Oz Griebel (Griebel Frank for CT Party)  \n",
    "G18GOVOGRE - Mark Stewart Greenstein (Amigo Constitution Liberty Party)  \n",
    "G18GOVOWRI - Write-in Votes  \n",
    "\n",
    "G18ATGDTON - William Tong (Democratic Party and Working Families Party (fusion candidate))  \n",
    "G18ATGRHAT - Sue Hatfield (Republican Party and Independent Party (fusion candidate))  \n",
    "G18ATGGGOS - Peter D. Goselin (Green Party)  \n",
    "\n",
    "G18SOSDMER - Denise W. Merrill (Democratic Party and Working Families Party (fusion candidate))\n",
    "G18SOSRCHA - Susan Chapman (Republican Party and Independent Party (fusion candidate))  \n",
    "G18SOSLGWY - Heather Lynn Sylvestre Gwynn (Libertarian Party)  \n",
    "G18SOSGDER - S. Michael DeRosa (Green Party)  \n",
    "\n",
    "G18TREDWOO - Shawn Wooden (Democratic Party and Working Families Party (fusion candidate))  \n",
    "G18TRERGRA - Thad Gray (Republican Party and Independent Party (fusion candidate))  \n",
    "G18TRELBRO - Jesse Brohinsky (Libertarian Party)  \n",
    "G18TREOWRI - Write-in Votes  \n",
    "\n",
    "G18COMDLEM - Kevin Lembo (Democratic Party and Working Families Party (fusion candidate))  \n",
    "G18COMRMIL - Kurt Miller (Republican Party and Independent Party (fusion candidate))  \n",
    "G18COMLPAS - Paul Passarelli (Libertarian Party)  \n",
    "G18COMGHEF - Edward G. Heflin (Green Party)  "
   ]
  },
  {
   "cell_type": "markdown",
   "id": "1d19c98f-ed5b-4779-9ba4-b714504a82d5",
   "metadata": {},
   "source": [
    "## Election Result Processing"
   ]
  },
  {
   "cell_type": "markdown",
   "id": "a58708ae-bd39-4592-a6ab-b133adc49ad8",
   "metadata": {},
   "source": [
    "### Load in VEST file"
   ]
  },
  {
   "cell_type": "code",
   "execution_count": 3,
   "id": "6d92a138",
   "metadata": {},
   "outputs": [],
   "source": [
    "vest_ct_18 = gp.read_file(\"./raw-from-source/VEST/ct_2018/ct_2018.shp\")"
   ]
  },
  {
   "cell_type": "code",
   "execution_count": null,
   "id": "f51dfdfd",
   "metadata": {},
   "outputs": [],
   "source": []
  }
 ],
 "metadata": {
  "kernelspec": {
   "display_name": "Python 3",
   "language": "python",
   "name": "python3"
  },
  "language_info": {
   "codemirror_mode": {
    "name": "ipython",
    "version": 3
   },
   "file_extension": ".py",
   "mimetype": "text/x-python",
   "name": "python",
   "nbconvert_exporter": "python",
   "pygments_lexer": "ipython3",
   "version": "3.9.2"
  }
 },
 "nbformat": 4,
 "nbformat_minor": 5
}
